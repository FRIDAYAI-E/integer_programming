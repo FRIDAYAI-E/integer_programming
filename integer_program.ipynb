{
 "cells": [
  {
   "cell_type": "code",
   "execution_count": 8,
   "metadata": {},
   "outputs": [
    {
     "name": "stderr",
     "output_type": "stream",
     "text": [
      "Downloading...\n",
      "From: https://drive.google.com/uc?id=15BPH7-3GGWBfXPJQ3stkT6SHQECbT-pt\n",
      "To: /Users/ethansu/Desktop/Grandeur_Log/integer_programming/shifts.csv\n",
      "100%|██████████| 298/298 [00:00<00:00, 288kB/s]\n"
     ]
    }
   ],
   "source": [
    "import gdown\n",
    "import pulp as p\n",
    "\n",
    "import pandas as pd\n",
    "\n",
    "url = \"https://drive.google.com/uc?id=15BPH7-3GGWBfXPJQ3stkT6SHQECbT-pt\"\n",
    "output = \"shifts.csv\"\n",
    "gdown.download(url, output, quiet=False)\n",
    "\n",
    "df = pd.read_csv(\"shifts.csv\", index_col=0)"
   ]
  },
  {
   "cell_type": "code",
   "execution_count": 2,
   "metadata": {},
   "outputs": [
    {
     "data": {
      "text/html": [
       "<div>\n",
       "<style scoped>\n",
       "    .dataframe tbody tr th:only-of-type {\n",
       "        vertical-align: middle;\n",
       "    }\n",
       "\n",
       "    .dataframe tbody tr th {\n",
       "        vertical-align: top;\n",
       "    }\n",
       "\n",
       "    .dataframe thead th {\n",
       "        text-align: right;\n",
       "    }\n",
       "</style>\n",
       "<table border=\"1\" class=\"dataframe\">\n",
       "  <thead>\n",
       "    <tr style=\"text-align: right;\">\n",
       "      <th></th>\n",
       "      <th>Shift 1</th>\n",
       "      <th>Shift 2</th>\n",
       "      <th>Shift 3</th>\n",
       "      <th>Shift 4</th>\n",
       "      <th>Workers Required</th>\n",
       "    </tr>\n",
       "    <tr>\n",
       "      <th>Time Windows</th>\n",
       "      <th></th>\n",
       "      <th></th>\n",
       "      <th></th>\n",
       "      <th></th>\n",
       "      <th></th>\n",
       "    </tr>\n",
       "  </thead>\n",
       "  <tbody>\n",
       "    <tr>\n",
       "      <th>6:00 – 9:00</th>\n",
       "      <td>X</td>\n",
       "      <td>NaN</td>\n",
       "      <td>NaN</td>\n",
       "      <td>X</td>\n",
       "      <td>55.0</td>\n",
       "    </tr>\n",
       "    <tr>\n",
       "      <th>9:00 – 12:00</th>\n",
       "      <td>X</td>\n",
       "      <td>NaN</td>\n",
       "      <td>NaN</td>\n",
       "      <td>NaN</td>\n",
       "      <td>46.0</td>\n",
       "    </tr>\n",
       "    <tr>\n",
       "      <th>12:00 – 15:00</th>\n",
       "      <td>X</td>\n",
       "      <td>X</td>\n",
       "      <td>NaN</td>\n",
       "      <td>NaN</td>\n",
       "      <td>59.0</td>\n",
       "    </tr>\n",
       "    <tr>\n",
       "      <th>15:00 – 18:00</th>\n",
       "      <td>NaN</td>\n",
       "      <td>X</td>\n",
       "      <td>NaN</td>\n",
       "      <td>NaN</td>\n",
       "      <td>23.0</td>\n",
       "    </tr>\n",
       "    <tr>\n",
       "      <th>18:00 – 21:00</th>\n",
       "      <td>NaN</td>\n",
       "      <td>X</td>\n",
       "      <td>X</td>\n",
       "      <td>NaN</td>\n",
       "      <td>60.0</td>\n",
       "    </tr>\n",
       "    <tr>\n",
       "      <th>21:00 – 24:00</th>\n",
       "      <td>NaN</td>\n",
       "      <td>NaN</td>\n",
       "      <td>X</td>\n",
       "      <td>NaN</td>\n",
       "      <td>38.0</td>\n",
       "    </tr>\n",
       "    <tr>\n",
       "      <th>24:00 – 3:00</th>\n",
       "      <td>NaN</td>\n",
       "      <td>NaN</td>\n",
       "      <td>X</td>\n",
       "      <td>X</td>\n",
       "      <td>20.0</td>\n",
       "    </tr>\n",
       "    <tr>\n",
       "      <th>3:00 – 6:00</th>\n",
       "      <td>NaN</td>\n",
       "      <td>NaN</td>\n",
       "      <td>NaN</td>\n",
       "      <td>X</td>\n",
       "      <td>30.0</td>\n",
       "    </tr>\n",
       "    <tr>\n",
       "      <th>Wage rate per 9h shift ($)</th>\n",
       "      <td>135</td>\n",
       "      <td>140</td>\n",
       "      <td>190</td>\n",
       "      <td>188</td>\n",
       "      <td>NaN</td>\n",
       "    </tr>\n",
       "  </tbody>\n",
       "</table>\n",
       "</div>"
      ],
      "text/plain": [
       "                           Shift 1 Shift 2 Shift 3 Shift 4  Workers Required\n",
       "Time Windows                                                                \n",
       "6:00 – 9:00                      X     NaN     NaN       X              55.0\n",
       "9:00 – 12:00                     X     NaN     NaN     NaN              46.0\n",
       "12:00 – 15:00                    X       X     NaN     NaN              59.0\n",
       "15:00 – 18:00                  NaN       X     NaN     NaN              23.0\n",
       "18:00 – 21:00                  NaN       X       X     NaN              60.0\n",
       "21:00 – 24:00                  NaN     NaN       X     NaN              38.0\n",
       "24:00 – 3:00                   NaN     NaN       X       X              20.0\n",
       "3:00 – 6:00                    NaN     NaN     NaN       X              30.0\n",
       "Wage rate per 9h shift ($)     135     140     190     188               NaN"
      ]
     },
     "execution_count": 2,
     "metadata": {},
     "output_type": "execute_result"
    }
   ],
   "source": [
    "df"
   ]
  },
  {
   "cell_type": "code",
   "execution_count": 3,
   "metadata": {},
   "outputs": [
    {
     "data": {
      "text/plain": [
       "array([[1, 0, 0, 1],\n",
       "       [1, 0, 0, 0],\n",
       "       [1, 1, 0, 0],\n",
       "       [0, 1, 0, 0],\n",
       "       [0, 1, 1, 0],\n",
       "       [0, 0, 1, 0],\n",
       "       [0, 0, 1, 1],\n",
       "       [0, 0, 0, 1]], dtype=object)"
      ]
     },
     "execution_count": 3,
     "metadata": {},
     "output_type": "execute_result"
    }
   ],
   "source": [
    "df = df.fillna(0).applymap(lambda x: 1 if x == \"X\" else x)\n",
    "\n",
    "a = df.drop(index=[\"Wage rate per 9h shift ($)\"], columns=[\"Workers Required\"]).values\n",
    "\n",
    "a"
   ]
  },
  {
   "cell_type": "code",
   "execution_count": 5,
   "metadata": {},
   "outputs": [
    {
     "data": {
      "text/plain": [
       "array([135, 140, 190, 188,   0])"
      ]
     },
     "execution_count": 5,
     "metadata": {},
     "output_type": "execute_result"
    }
   ],
   "source": [
    "# number of shifts\n",
    "n = a.shape[1]\n",
    "\n",
    "# number of time windows\n",
    "T = a.shape[0]\n",
    "\n",
    "# number of workers required per time window\n",
    "d = df[\"Workers Required\"].values\n",
    "\n",
    "# wage rate per shift\n",
    "w = df.loc[\"Wage rate per 9h shift ($)\", :].values.astype(int)\n",
    "\n",
    "w"
   ]
  },
  {
   "cell_type": "code",
   "execution_count": 9,
   "metadata": {},
   "outputs": [],
   "source": [
    "# Decision variables\n",
    "y = p.LpVariable.dicts(\"num_workers\", list(range(n)), lowBound=0, cat=\"Integer\")"
   ]
  }
 ],
 "metadata": {
  "interpreter": {
   "hash": "3ca04efdedbfa320920795ff1d31324fc830821a03498d8e66b8c822a6437d7f"
  },
  "kernelspec": {
   "display_name": "Python 3.8.10 64-bit ('friday': conda)",
   "language": "python",
   "name": "python3"
  },
  "language_info": {
   "codemirror_mode": {
    "name": "ipython",
    "version": 3
   },
   "file_extension": ".py",
   "mimetype": "text/x-python",
   "name": "python",
   "nbconvert_exporter": "python",
   "pygments_lexer": "ipython3",
   "version": "3.8.10"
  },
  "orig_nbformat": 4
 },
 "nbformat": 4,
 "nbformat_minor": 2
}
